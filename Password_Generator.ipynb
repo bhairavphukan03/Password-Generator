{
  "nbformat": 4,
  "nbformat_minor": 0,
  "metadata": {
    "colab": {
      "name": "Password Generator",
      "provenance": []
    },
    "kernelspec": {
      "name": "python3",
      "display_name": "Python 3"
    },
    "language_info": {
      "name": "python"
    }
  },
  "cells": [
    {
      "cell_type": "markdown",
      "source": [
        "**Password Generator**\n",
        "\n"
      ],
      "metadata": {
        "id": "dWboc8hFRvhk"
      }
    },
    {
      "cell_type": "code",
      "source": [
        "import random\n",
        "\n",
        "def generatePassword(pwlength):\n",
        "\n",
        "    alphabet = \"abcdefghijklmnopqrstuvwxyz\"\n",
        "\n",
        "    passwords = [] \n",
        "\n",
        "    for i in pwlength:\n",
        "        \n",
        "        password = \"\" \n",
        "        for j in range(i):\n",
        "            next_letter_index = random.randrange(len(alphabet))\n",
        "            password = password + alphabet[next_letter_index]\n",
        "        \n",
        "        password = replaceWithNumber(password)\n",
        "        password = replaceWithUppercaseLetter(password)\n",
        "        \n",
        "        passwords.append(password) \n",
        "    \n",
        "    return passwords\n",
        "\n",
        "\n",
        "def replaceWithNumber(pword):\n",
        "    for i in range(random.randrange(1,3)):\n",
        "        replace_index = random.randrange(len(pword)//2)\n",
        "        pword = pword[0:replace_index] + str(random.randrange(10)) + pword[replace_index+1:]\n",
        "        return pword\n",
        "\n",
        "\n",
        "def replaceWithUppercaseLetter(pword):\n",
        "    for i in range(random.randrange(1,3)):\n",
        "        replace_index = random.randrange(len(pword)//2,len(pword))\n",
        "        pword = pword[0:replace_index] + pword[replace_index].upper() + pword[replace_index+1:]\n",
        "        return pword\n",
        "\n",
        "def main():\n",
        "    \n",
        "    numPasswords = int(input(\"How many passwords do you want to generate? \"))\n",
        "    \n",
        "    print(\"Generating \" +str(numPasswords)+\" passwords\")\n",
        "    \n",
        "    passwordLengths = []\n",
        "\n",
        "    print(\"Minimum length of password should be 3\")\n",
        "\n",
        "    for i in range(numPasswords):\n",
        "        length = int(input(\"Enter the length of Password #\" + str(i+1) + \" \"))\n",
        "        if length<3:\n",
        "            length = 3\n",
        "        passwordLengths.append(length)\n",
        "    \n",
        "    \n",
        "    Password = generatePassword(passwordLengths)\n",
        "\n",
        "    for i in range(numPasswords):\n",
        "        print (\"Password #\"+str(i+1)+\" = \" + Password[i])\n",
        "\n",
        "\n",
        "\n",
        "main()"
      ],
      "metadata": {
        "colab": {
          "base_uri": "https://localhost:8080/"
        },
        "id": "F3IegmYkSeiK",
        "outputId": "ad21508c-1271-4ef5-a1e0-6c6fca9f38a5"
      },
      "execution_count": 5,
      "outputs": [
        {
          "output_type": "stream",
          "name": "stdout",
          "text": [
            "How many passwords do you want to generate? 5\n",
            "Generating 5 passwords\n",
            "Minimum length of password should be 3\n",
            "Enter the length of Password #1 4\n",
            "Enter the length of Password #2 5\n",
            "Enter the length of Password #3 6\n",
            "Enter the length of Password #4 7\n",
            "Enter the length of Password #5 8\n",
            "Password #1 = 6fbV\n",
            "Password #2 = y0Jkc\n",
            "Password #3 = r9wsSn\n",
            "Password #4 = pf5Dpar\n",
            "Password #5 = pdt3owXf\n"
          ]
        }
      ]
    }
  ]
}